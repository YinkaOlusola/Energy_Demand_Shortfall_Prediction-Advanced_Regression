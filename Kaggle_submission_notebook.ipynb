{
 "cells": [
  {
   "cell_type": "markdown",
   "id": "ec217724",
   "metadata": {},
   "source": [
    "## 8. Making a Kaggle submission\n",
    "\n",
    "We converted the model with a better performance to a CSV file and exported for submission on Kaggle. The Random Forest model appears to be the best model, considering it gives a lower rmse value and a better r_2 score, hence our selection for submission. "
   ]
  },
  {
   "cell_type": "code",
   "execution_count": null,
   "id": "6497c65c",
   "metadata": {},
   "outputs": [],
   "source": [
    "predicted_y = pd.DataFrame(predictions_Rfr_test, columns = ['load_shortfall_3h'])\n",
    "predicted_y.head()"
   ]
  },
  {
   "cell_type": "code",
   "execution_count": null,
   "id": "5ed5c8a6",
   "metadata": {},
   "outputs": [],
   "source": [
    "predicted_y.describe().round()"
   ]
  },
  {
   "cell_type": "code",
   "execution_count": null,
   "id": "1ebf07a0",
   "metadata": {},
   "outputs": [],
   "source": [
    "y.describe().round()"
   ]
  },
  {
   "cell_type": "code",
   "execution_count": null,
   "id": "1c46b54b",
   "metadata": {},
   "outputs": [],
   "source": [
    "output = pd.DataFrame({'time':df_test['time']})\n",
    "team_submission_Lr = output.join(submitted_y)\n",
    "team_submission_Lr.to_csv('team_NM2_submission.csv', index = False)"
   ]
  }
 ],
 "metadata": {
  "kernelspec": {
   "display_name": "Python 3 (ipykernel)",
   "language": "python",
   "name": "python3"
  },
  "language_info": {
   "codemirror_mode": {
    "name": "ipython",
    "version": 3
   },
   "file_extension": ".py",
   "mimetype": "text/x-python",
   "name": "python",
   "nbconvert_exporter": "python",
   "pygments_lexer": "ipython3",
   "version": "3.11.4"
  }
 },
 "nbformat": 4,
 "nbformat_minor": 5
}
